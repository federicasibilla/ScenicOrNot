{
  "nbformat": 4,
  "nbformat_minor": 0,
  "metadata": {
    "colab": {
      "provenance": [],
      "authorship_tag": "ABX9TyNkbkC+QQls3kkWYRGtp4J0",
      "include_colab_link": true
    },
    "kernelspec": {
      "name": "python3",
      "display_name": "Python 3"
    },
    "language_info": {
      "name": "python"
    }
  },
  "cells": [
    {
      "cell_type": "markdown",
      "metadata": {
        "id": "view-in-github",
        "colab_type": "text"
      },
      "source": [
        "<a href=\"https://colab.research.google.com/github/federicasibilla/ScenicOrNot/blob/main/Preparazione_dataset.ipynb\" target=\"_parent\"><img src=\"https://colab.research.google.com/assets/colab-badge.svg\" alt=\"Open In Colab\"/></a>"
      ]
    },
    {
      "cell_type": "markdown",
      "source": [
        "# Scenic Or Not\n",
        "\n",
        "## Dataset di immagini dal gioco https://scenicornot.datasciencelab.co.uk/\n",
        "\n",
        "Il gioco propone immagini di scene outdoor scattate in Inghilterra, Scozia e Galles. Gli utenti possono assegnare ad ogni scena un punteggio intero da 1 a 10. Il dataset generato è composto da 7 colonne:\n",
        "\n",
        "\n",
        "*   ID della fotografia\n",
        "*   Latitudine\n",
        "*   Longitudine\n",
        "*   Punteggio medio\n",
        "*   Varianza \n",
        "*   Elenco dei voti\n",
        "*   URL per la pagina di http://www.geograph.org.uk/ contenente l'immagine\n",
        "\n",
        "In questo notebook si implementa la creazione degli array utili allo studio del problema di riconoscere la scenicità di un luogo outdoor:\n",
        "\n",
        "\n",
        "\n",
        "*   Array contenente gli array RGB delle immagini che sono state votate più di 10 volte\n",
        "*   Array delle corrispondenti distribuzioni dei voti ricevuti per ciascuna immagine\n",
        "\n",
        "Riportiamo un esempio di riga del dataset:\n",
        "\n",
        "---\n",
        "\n",
        "*39\t 53.9849  \t-1.41281  \t3.6000  \t1.8400\t  5,4,4,3,1,6,3,2,4,4\t http://www.geograph.org.uk/photo/324*\n",
        "\n",
        "---\n",
        "negli array saranno contenuti, rispettivamente, l'immagine (riscalata a 224x224 pixel) contenuta nella pagina del link e l'array [0.1, 0.1, 0.2, 0.4, 0.1, 0.1, 0.0, 0.0, 0.0, 0.0].\n",
        "\n",
        "\n",
        "\n",
        "\n"
      ],
      "metadata": {
        "id": "XvJlugJQHh1x"
      }
    },
    {
      "cell_type": "code",
      "execution_count": 1,
      "metadata": {
        "id": "GzWcpibWGrs3"
      },
      "outputs": [],
      "source": [
        "# import\n",
        "\n",
        "import numpy as np\n",
        "import tensorflow as tf\n",
        "import pandas as pd\n",
        "\n",
        "from google.colab import files\n",
        "from google.colab import drive\n",
        "import joblib\n",
        "\n",
        "from collections import Counter\n",
        "\n",
        "from PIL import Image\n",
        "import requests\n",
        "from bs4 import BeautifulSoup\n",
        "from io import BytesIO"
      ]
    },
    {
      "cell_type": "code",
      "source": [
        "# connessione. aldrive per salvare gli array finiti\n",
        "\n",
        "drive.mount('/content/drive')"
      ],
      "metadata": {
        "id": "QMeb7Pj3_kPe"
      },
      "execution_count": null,
      "outputs": []
    },
    {
      "cell_type": "code",
      "source": [
        "# creazione del dizionario dalla lettura del file\n",
        "\n",
        "data = []\n",
        "with open('/content/votes.tsv', 'r') as file:\n",
        "    next(file)\n",
        "    for line in file:\n",
        "        values = line.strip().split()\n",
        "        url = values[-1]\n",
        "        integers = [int(x) for x in values[5].split(',')]\n",
        "        row_dict = {'URL': url, 'Votes': integers}\n",
        "        data.append(row_dict)"
      ],
      "metadata": {
        "id": "3Y_lHgMH_uXR"
      },
      "execution_count": null,
      "outputs": []
    },
    {
      "cell_type": "code",
      "source": [
        "# trasformazione in un dizionario con proporzione di conteggi per punteggio e selezione delle immagini con almeno 11 voti\n",
        "\n",
        "conteggi_totali = Counter()\n",
        "data_dict={}\n",
        "\n",
        "for dizionario in data:\n",
        "    url = dizionario['URL']\n",
        "    votes = dizionario['Votes']\n",
        "    conteggi = Counter(votes)\n",
        "    data_dict[url] = [conteggi.get(i, 0) for i in range(1, 11)]\n",
        "    somma = sum(data_dict[url])\n",
        "    if somma < 10:\n",
        "      del data_dict[url]\n",
        "    else:\n",
        "      data_dict[url] = [valore / somma for valore in data_dict[url]]"
      ],
      "metadata": {
        "id": "7jwt19H0AVCk"
      },
      "execution_count": null,
      "outputs": []
    },
    {
      "cell_type": "code",
      "source": [
        "# visuazlizzazione dizionario\n",
        "\n",
        "count = 0\n",
        "for chiave, valore in data_dict.items():\n",
        "    print(chiave, valore)\n",
        "    count += 1\n",
        "    if count == 3:\n",
        "        break"
      ],
      "metadata": {
        "id": "g4BfN2FeAtvB"
      },
      "execution_count": null,
      "outputs": []
    },
    {
      "cell_type": "code",
      "source": [
        "# funzioni per la conversione degli URL in array RGB ridimensionati\n",
        "\n",
        "#  funzione che dall' URL di una pagina estrae quello di un'immagine \n",
        "\n",
        "def get_image_url_from_page(url):\n",
        "    response = requests.get(url)\n",
        "    soup = BeautifulSoup(response.content, 'html.parser')\n",
        "    # Trova l'elemento HTML che contiene l'URL dell'immagine\n",
        "    image_element = soup.find('img')\n",
        "    if image_element:\n",
        "        image_url = image_element['src']\n",
        "        return image_url\n",
        "    else:\n",
        "        return None\n",
        "\n",
        "#  funzione che converte da URL a matrice RGB\n",
        "\n",
        "def url_to_image(url):\n",
        "    response = requests.get(url)\n",
        "    img = Image.open(BytesIO(response.content))\n",
        "    img = img.convert('RGB')\n",
        "    img_array = np.array(img)\n",
        "    return img_array\n",
        "\n",
        "\n",
        "# funzione per il ridimensionamento delle immagini\n",
        "\n",
        "def resize_img(array_img, width, height):\n",
        "    img_resized = tf.image.resize(array_img, [width, height])\n",
        "    return img_resized"
      ],
      "metadata": {
        "id": "0qarPAQ0A-Ux"
      },
      "execution_count": null,
      "outputs": []
    },
    {
      "cell_type": "code",
      "source": [
        "# creare array di array con le immagini, ridimensionate\n",
        "\n",
        "images = []\n",
        "votes = []\n",
        "\n",
        "for url, values in data_dict.items():\n",
        "\n",
        "    web_page_url = url\n",
        "    image_url = get_image_url_from_page(web_page_url)\n",
        "\n",
        "    if image_url:\n",
        "      img_array = url_to_image(image_url)\n",
        "      # Utilizza l'immagine come desiderato\n",
        "    else:\n",
        "      print(\"URL dell'immagine non trovato.\")\n",
        "\n",
        "    images.append(resize_img(img_array, 224,224))\n",
        "    votes.append(values)"
      ],
      "metadata": {
        "id": "T5cC5jiyBtHW"
      },
      "execution_count": null,
      "outputs": []
    },
    {
      "cell_type": "code",
      "source": [
        "#salvataggio array\n",
        "\n",
        "np.save('/content/drive/MyDrive/array_immagini224_completo11voti.npy', images)\n",
        "np.save('/content/drive/MyDrive/array_voti_completo11voti.npy', votes)"
      ],
      "metadata": {
        "id": "FfyUOjisB8vO"
      },
      "execution_count": null,
      "outputs": []
    }
  ]
}