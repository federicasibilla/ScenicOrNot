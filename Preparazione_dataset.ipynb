{
  "nbformat": 4,
  "nbformat_minor": 0,
  "metadata": {
    "colab": {
      "provenance": [],
      "authorship_tag": "ABX9TyO7bUFn95puCbmbsuVwDnIy",
      "include_colab_link": true
    },
    "kernelspec": {
      "name": "python3",
      "display_name": "Python 3"
    },
    "language_info": {
      "name": "python"
    }
  },
  "cells": [
    {
      "cell_type": "markdown",
      "metadata": {
        "id": "view-in-github",
        "colab_type": "text"
      },
      "source": [
        "<a href=\"https://colab.research.google.com/github/federicasibilla/ScenicOrNot/blob/main/Preparazione_dataset.ipynb\" target=\"_parent\"><img src=\"https://colab.research.google.com/assets/colab-badge.svg\" alt=\"Open In Colab\"/></a>"
      ]
    },
    {
      "cell_type": "markdown",
      "source": [
        "# Scenic Or Not\n",
        "\n",
        "## Dataset di immagini dal gioco https://scenicornot.datasciencelab.co.uk/\n",
        "\n",
        "Il gioco propone immagini di scene outdoor scattate in Inghilterra, Scozia e Galles. Gli utenti possono assegnare ad ogni scena un punteggio intero da 1 a 10. Il dataset generato è composto da 7 colonne:\n",
        "\n",
        "\n",
        "*   ID della fotografia\n",
        "*   Latitudine\n",
        "*   Longitudine\n",
        "*   Punteggio medio\n",
        "*   Varianza \n",
        "*   Elenco dei voti\n",
        "*   URL per la pagina di http://www.geograph.org.uk/ contenente l'immagine\n",
        "\n",
        "In questo notebook si implementa la creazione degli array utili allo studio del problema di riconoscere la scenicità di un luogo outdoor:\n",
        "\n",
        "\n",
        "\n",
        "*   Array contenente gli array RGB delle immagini che sono state votate più di 10 volte\n",
        "*   Array delle corrispondenti distribuzioni dei voti ricevuti per ciascuna immagine\n",
        "\n",
        "Riportiamo un esempio di riga del dataset:\n",
        "\n",
        "---\n",
        "\n",
        "*39\t 53.9849  \t-1.41281  \t3.6000  \t1.8400\t  5,4,4,3,1,6,3,2,4,4\t http://www.geograph.org.uk/photo/324*\n",
        "\n",
        "---\n",
        "negli array saranno contenuti, rispettivamente, l'immagine (riscalata a 224x224 pixel) contenuta nella pagina del link e l'array [0.1, 0.1, 0.2, 0.4, 0.1, 0.1, 0.0, 0.0, 0.0, 0.0].\n",
        "\n",
        "\n",
        "\n",
        "\n"
      ],
      "metadata": {
        "id": "XvJlugJQHh1x"
      }
    },
    {
      "cell_type": "code",
      "execution_count": null,
      "metadata": {
        "id": "GzWcpibWGrs3"
      },
      "outputs": [],
      "source": []
    }
  ]
}